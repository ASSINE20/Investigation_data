{
 "cells": [
  {
   "cell_type": "markdown",
   "id": "6694f0ee",
   "metadata": {},
   "source": [
    "# Project: Investigate a Dataset - noshowappointments-kagglev2-may-2016\n",
    "\n",
    "\n",
    "## Table of Contents\n",
    "<ul>\n",
    "<li><a href=\"#intro\">Introduction</a></li>\n",
    "<li><a href=\"#wrangling\">Data Wrangling</a></li>\n",
    "<li><a href=\"#eda\">Exploratory Data Analysis</a></li>\n",
    "<li><a href=\"#conclusions\">Conclusions</a></li>\n",
    "</ul>"
   ]
  },
  {
   "cell_type": "markdown",
   "id": "f1f96d68",
   "metadata": {},
   "source": [
    "<a id='intro'></a>\n",
    "## Introduction\n",
    "\n",
    "\n",
    "### Dataset Description \n",
    "\n",
    "Ce dataset recueille des informations sur 100.000 enregistrements de rendez-vous médicaux de différents patients au Brésil  en 2016. Le but principal est de voir si les patients parviennent à respecter leur planning de rendez-vous ou pas.\n",
    "Le dataset est constitué de 14 variables:\n",
    "\n",
    "  * **PatientId:** int,Id du patient\n",
    "  * **AppointmentID:** int, Id du rendez-vous\n",
    "  * **Gender:** string, Sexe du patient\n",
    "  * **ScheduledDay:** date, jour que le patient a fixé le rendez-vous\n",
    "  * **AppointementDay:** date, Jour de rendez-vous\n",
    "  * **Age:** int, âge du patient\n",
    "  * **Neighbourhood:** string, localisation hôpital\n",
    "  * **Scholarship:** variable binaire, vérifiant si le patient est inscrit dans le programme Welfare ou pas. \n",
    "  * **Hipertension:** Variable binaire, vérifiant si le patient est hypertendu ou pas.\n",
    "  * **Diabetes:** Variable binaire, vérifiant si le patient est atteint de diabete ou pas.\n",
    "  * **Alcoholism:** Variable binaire, vérifiant si le patient est alcoolique ou pas.\n",
    "  * **Handcap:** Variable binaire, vérifiant si le patient est atteint d'un handicap ou pas.\n",
    "  * **SMS_received:** Variable binaire, vérifiant si le patient a reçu un sms d'alert ou pas.\n",
    "  * **NO-show:** Si le patient a pu voir son planning de rendez-vous ou pas.\n",
    "\n",
    "\n",
    "\n",
    "\n",
    "### Question(s) for Analysis\n",
    "\n",
    "\n",
    "\n",
    "\n",
    "\n",
    "\n",
    "\n",
    "\n",
    "\n",
    "\n",
    "\n",
    "\n"
   ]
  },
  {
   "cell_type": "markdown",
   "id": "a4306059",
   "metadata": {},
   "source": [
    "### Q1: Est-ce que tous les patients qui ont reçu un sms ont pu voir leur rendez-vous?\n",
    "\n",
    "### Q2: Quelle est la répartition par sexe des patients selon leur participation au programme welfare?\n",
    "\n",
    "### Q3: Quel est l'âge moyen des patients qui ont pu voir leur planning de rendez-vous?\n",
    "\n",
    "### Q4: Y a-t-il une relation entre l'hypertension et le diabete?\n",
    "\n",
    "### Q5: Les patients qui ont pu voir leur rendez-vous ont-ils bénéficiés du programme welfare?\n",
    "\n",
    "### Q6: Combien de patients femmes ou hommes sont-ils alcooliques?\n",
    "\n",
    "### Q7:Y a-t-il une corrélation entre le sexe et le diabete?"
   ]
  },
  {
   "cell_type": "code",
   "execution_count": 309,
   "id": "1be16de3",
   "metadata": {},
   "outputs": [],
   "source": [
    "# Importation des packages\n",
    "import numpy as np\n",
    "import pandas as pd\n",
    "import matplotlib.pyplot as plt\n",
    "%matplotlib inline"
   ]
  },
  {
   "cell_type": "markdown",
   "id": "690b6fe7",
   "metadata": {},
   "source": [
    "<a id='wrangling'></a>\n",
    "## Data Wrangling\n",
    "\n",
    "\n",
    "\n",
    "\n",
    "### General Properties\n",
    "\n",
    "\n"
   ]
  },
  {
   "cell_type": "code",
   "execution_count": 2,
   "id": "de9a4991",
   "metadata": {},
   "outputs": [
    {
     "data": {
      "text/html": [
       "<div>\n",
       "<style scoped>\n",
       "    .dataframe tbody tr th:only-of-type {\n",
       "        vertical-align: middle;\n",
       "    }\n",
       "\n",
       "    .dataframe tbody tr th {\n",
       "        vertical-align: top;\n",
       "    }\n",
       "\n",
       "    .dataframe thead th {\n",
       "        text-align: right;\n",
       "    }\n",
       "</style>\n",
       "<table border=\"1\" class=\"dataframe\">\n",
       "  <thead>\n",
       "    <tr style=\"text-align: right;\">\n",
       "      <th></th>\n",
       "      <th>PatientId</th>\n",
       "      <th>AppointmentID</th>\n",
       "      <th>Gender</th>\n",
       "      <th>ScheduledDay</th>\n",
       "      <th>AppointmentDay</th>\n",
       "      <th>Age</th>\n",
       "      <th>Neighbourhood</th>\n",
       "      <th>Scholarship</th>\n",
       "      <th>Hipertension</th>\n",
       "      <th>Diabetes</th>\n",
       "      <th>Alcoholism</th>\n",
       "      <th>Handcap</th>\n",
       "      <th>SMS_received</th>\n",
       "      <th>No-show</th>\n",
       "    </tr>\n",
       "  </thead>\n",
       "  <tbody>\n",
       "    <tr>\n",
       "      <th>0</th>\n",
       "      <td>2.987250e+13</td>\n",
       "      <td>5642903</td>\n",
       "      <td>F</td>\n",
       "      <td>2016-04-29T18:38:08Z</td>\n",
       "      <td>2016-04-29T00:00:00Z</td>\n",
       "      <td>62</td>\n",
       "      <td>JARDIM DA PENHA</td>\n",
       "      <td>0</td>\n",
       "      <td>1</td>\n",
       "      <td>0</td>\n",
       "      <td>0</td>\n",
       "      <td>0</td>\n",
       "      <td>0</td>\n",
       "      <td>No</td>\n",
       "    </tr>\n",
       "    <tr>\n",
       "      <th>1</th>\n",
       "      <td>5.589978e+14</td>\n",
       "      <td>5642503</td>\n",
       "      <td>M</td>\n",
       "      <td>2016-04-29T16:08:27Z</td>\n",
       "      <td>2016-04-29T00:00:00Z</td>\n",
       "      <td>56</td>\n",
       "      <td>JARDIM DA PENHA</td>\n",
       "      <td>0</td>\n",
       "      <td>0</td>\n",
       "      <td>0</td>\n",
       "      <td>0</td>\n",
       "      <td>0</td>\n",
       "      <td>0</td>\n",
       "      <td>No</td>\n",
       "    </tr>\n",
       "    <tr>\n",
       "      <th>2</th>\n",
       "      <td>4.262962e+12</td>\n",
       "      <td>5642549</td>\n",
       "      <td>F</td>\n",
       "      <td>2016-04-29T16:19:04Z</td>\n",
       "      <td>2016-04-29T00:00:00Z</td>\n",
       "      <td>62</td>\n",
       "      <td>MATA DA PRAIA</td>\n",
       "      <td>0</td>\n",
       "      <td>0</td>\n",
       "      <td>0</td>\n",
       "      <td>0</td>\n",
       "      <td>0</td>\n",
       "      <td>0</td>\n",
       "      <td>No</td>\n",
       "    </tr>\n",
       "    <tr>\n",
       "      <th>3</th>\n",
       "      <td>8.679512e+11</td>\n",
       "      <td>5642828</td>\n",
       "      <td>F</td>\n",
       "      <td>2016-04-29T17:29:31Z</td>\n",
       "      <td>2016-04-29T00:00:00Z</td>\n",
       "      <td>8</td>\n",
       "      <td>PONTAL DE CAMBURI</td>\n",
       "      <td>0</td>\n",
       "      <td>0</td>\n",
       "      <td>0</td>\n",
       "      <td>0</td>\n",
       "      <td>0</td>\n",
       "      <td>0</td>\n",
       "      <td>No</td>\n",
       "    </tr>\n",
       "    <tr>\n",
       "      <th>4</th>\n",
       "      <td>8.841186e+12</td>\n",
       "      <td>5642494</td>\n",
       "      <td>F</td>\n",
       "      <td>2016-04-29T16:07:23Z</td>\n",
       "      <td>2016-04-29T00:00:00Z</td>\n",
       "      <td>56</td>\n",
       "      <td>JARDIM DA PENHA</td>\n",
       "      <td>0</td>\n",
       "      <td>1</td>\n",
       "      <td>1</td>\n",
       "      <td>0</td>\n",
       "      <td>0</td>\n",
       "      <td>0</td>\n",
       "      <td>No</td>\n",
       "    </tr>\n",
       "  </tbody>\n",
       "</table>\n",
       "</div>"
      ],
      "text/plain": [
       "      PatientId  AppointmentID Gender          ScheduledDay  \\\n",
       "0  2.987250e+13        5642903      F  2016-04-29T18:38:08Z   \n",
       "1  5.589978e+14        5642503      M  2016-04-29T16:08:27Z   \n",
       "2  4.262962e+12        5642549      F  2016-04-29T16:19:04Z   \n",
       "3  8.679512e+11        5642828      F  2016-04-29T17:29:31Z   \n",
       "4  8.841186e+12        5642494      F  2016-04-29T16:07:23Z   \n",
       "\n",
       "         AppointmentDay  Age      Neighbourhood  Scholarship  Hipertension  \\\n",
       "0  2016-04-29T00:00:00Z   62    JARDIM DA PENHA            0             1   \n",
       "1  2016-04-29T00:00:00Z   56    JARDIM DA PENHA            0             0   \n",
       "2  2016-04-29T00:00:00Z   62      MATA DA PRAIA            0             0   \n",
       "3  2016-04-29T00:00:00Z    8  PONTAL DE CAMBURI            0             0   \n",
       "4  2016-04-29T00:00:00Z   56    JARDIM DA PENHA            0             1   \n",
       "\n",
       "   Diabetes  Alcoholism  Handcap  SMS_received No-show  \n",
       "0         0           0        0             0      No  \n",
       "1         0           0        0             0      No  \n",
       "2         0           0        0             0      No  \n",
       "3         0           0        0             0      No  \n",
       "4         1           0        0             0      No  "
      ]
     },
     "execution_count": 2,
     "metadata": {},
     "output_type": "execute_result"
    }
   ],
   "source": [
    "# Charger le dataset\n",
    "df_plan = pd.read_csv('noshowappointments-kagglev2-may-2016.csv')\n",
    "df_plan.head()"
   ]
  },
  {
   "cell_type": "code",
   "execution_count": 3,
   "id": "62caa52c",
   "metadata": {},
   "outputs": [
    {
     "name": "stdout",
     "output_type": "stream",
     "text": [
      " Dans notre dataset on a 110527 lignes et 14 colonnes \n"
     ]
    }
   ],
   "source": [
    "# Dimension du dataset\n",
    "Nb_lignes = df_plan.shape[0]\n",
    "Nb_col = df_plan.shape[1]\n",
    "\n",
    "print(f' Dans notre dataset on a {Nb_lignes} lignes et {Nb_col} colonnes ')"
   ]
  },
  {
   "cell_type": "code",
   "execution_count": 4,
   "id": "1e30c32a",
   "metadata": {},
   "outputs": [
    {
     "data": {
      "text/html": [
       "<div>\n",
       "<style scoped>\n",
       "    .dataframe tbody tr th:only-of-type {\n",
       "        vertical-align: middle;\n",
       "    }\n",
       "\n",
       "    .dataframe tbody tr th {\n",
       "        vertical-align: top;\n",
       "    }\n",
       "\n",
       "    .dataframe thead th {\n",
       "        text-align: right;\n",
       "    }\n",
       "</style>\n",
       "<table border=\"1\" class=\"dataframe\">\n",
       "  <thead>\n",
       "    <tr style=\"text-align: right;\">\n",
       "      <th></th>\n",
       "      <th>PatientId</th>\n",
       "      <th>AppointmentID</th>\n",
       "      <th>Age</th>\n",
       "      <th>Scholarship</th>\n",
       "      <th>Hipertension</th>\n",
       "      <th>Diabetes</th>\n",
       "      <th>Alcoholism</th>\n",
       "      <th>Handcap</th>\n",
       "      <th>SMS_received</th>\n",
       "    </tr>\n",
       "  </thead>\n",
       "  <tbody>\n",
       "    <tr>\n",
       "      <th>count</th>\n",
       "      <td>1.105270e+05</td>\n",
       "      <td>1.105270e+05</td>\n",
       "      <td>110527.000000</td>\n",
       "      <td>110527.000000</td>\n",
       "      <td>110527.000000</td>\n",
       "      <td>110527.000000</td>\n",
       "      <td>110527.000000</td>\n",
       "      <td>110527.000000</td>\n",
       "      <td>110527.000000</td>\n",
       "    </tr>\n",
       "    <tr>\n",
       "      <th>mean</th>\n",
       "      <td>1.474963e+14</td>\n",
       "      <td>5.675305e+06</td>\n",
       "      <td>37.088874</td>\n",
       "      <td>0.098266</td>\n",
       "      <td>0.197246</td>\n",
       "      <td>0.071865</td>\n",
       "      <td>0.030400</td>\n",
       "      <td>0.022248</td>\n",
       "      <td>0.321026</td>\n",
       "    </tr>\n",
       "    <tr>\n",
       "      <th>std</th>\n",
       "      <td>2.560949e+14</td>\n",
       "      <td>7.129575e+04</td>\n",
       "      <td>23.110205</td>\n",
       "      <td>0.297675</td>\n",
       "      <td>0.397921</td>\n",
       "      <td>0.258265</td>\n",
       "      <td>0.171686</td>\n",
       "      <td>0.161543</td>\n",
       "      <td>0.466873</td>\n",
       "    </tr>\n",
       "    <tr>\n",
       "      <th>min</th>\n",
       "      <td>3.921784e+04</td>\n",
       "      <td>5.030230e+06</td>\n",
       "      <td>-1.000000</td>\n",
       "      <td>0.000000</td>\n",
       "      <td>0.000000</td>\n",
       "      <td>0.000000</td>\n",
       "      <td>0.000000</td>\n",
       "      <td>0.000000</td>\n",
       "      <td>0.000000</td>\n",
       "    </tr>\n",
       "    <tr>\n",
       "      <th>25%</th>\n",
       "      <td>4.172614e+12</td>\n",
       "      <td>5.640286e+06</td>\n",
       "      <td>18.000000</td>\n",
       "      <td>0.000000</td>\n",
       "      <td>0.000000</td>\n",
       "      <td>0.000000</td>\n",
       "      <td>0.000000</td>\n",
       "      <td>0.000000</td>\n",
       "      <td>0.000000</td>\n",
       "    </tr>\n",
       "    <tr>\n",
       "      <th>50%</th>\n",
       "      <td>3.173184e+13</td>\n",
       "      <td>5.680573e+06</td>\n",
       "      <td>37.000000</td>\n",
       "      <td>0.000000</td>\n",
       "      <td>0.000000</td>\n",
       "      <td>0.000000</td>\n",
       "      <td>0.000000</td>\n",
       "      <td>0.000000</td>\n",
       "      <td>0.000000</td>\n",
       "    </tr>\n",
       "    <tr>\n",
       "      <th>75%</th>\n",
       "      <td>9.439172e+13</td>\n",
       "      <td>5.725524e+06</td>\n",
       "      <td>55.000000</td>\n",
       "      <td>0.000000</td>\n",
       "      <td>0.000000</td>\n",
       "      <td>0.000000</td>\n",
       "      <td>0.000000</td>\n",
       "      <td>0.000000</td>\n",
       "      <td>1.000000</td>\n",
       "    </tr>\n",
       "    <tr>\n",
       "      <th>max</th>\n",
       "      <td>9.999816e+14</td>\n",
       "      <td>5.790484e+06</td>\n",
       "      <td>115.000000</td>\n",
       "      <td>1.000000</td>\n",
       "      <td>1.000000</td>\n",
       "      <td>1.000000</td>\n",
       "      <td>1.000000</td>\n",
       "      <td>4.000000</td>\n",
       "      <td>1.000000</td>\n",
       "    </tr>\n",
       "  </tbody>\n",
       "</table>\n",
       "</div>"
      ],
      "text/plain": [
       "          PatientId  AppointmentID            Age    Scholarship  \\\n",
       "count  1.105270e+05   1.105270e+05  110527.000000  110527.000000   \n",
       "mean   1.474963e+14   5.675305e+06      37.088874       0.098266   \n",
       "std    2.560949e+14   7.129575e+04      23.110205       0.297675   \n",
       "min    3.921784e+04   5.030230e+06      -1.000000       0.000000   \n",
       "25%    4.172614e+12   5.640286e+06      18.000000       0.000000   \n",
       "50%    3.173184e+13   5.680573e+06      37.000000       0.000000   \n",
       "75%    9.439172e+13   5.725524e+06      55.000000       0.000000   \n",
       "max    9.999816e+14   5.790484e+06     115.000000       1.000000   \n",
       "\n",
       "        Hipertension       Diabetes     Alcoholism        Handcap  \\\n",
       "count  110527.000000  110527.000000  110527.000000  110527.000000   \n",
       "mean        0.197246       0.071865       0.030400       0.022248   \n",
       "std         0.397921       0.258265       0.171686       0.161543   \n",
       "min         0.000000       0.000000       0.000000       0.000000   \n",
       "25%         0.000000       0.000000       0.000000       0.000000   \n",
       "50%         0.000000       0.000000       0.000000       0.000000   \n",
       "75%         0.000000       0.000000       0.000000       0.000000   \n",
       "max         1.000000       1.000000       1.000000       4.000000   \n",
       "\n",
       "        SMS_received  \n",
       "count  110527.000000  \n",
       "mean        0.321026  \n",
       "std         0.466873  \n",
       "min         0.000000  \n",
       "25%         0.000000  \n",
       "50%         0.000000  \n",
       "75%         1.000000  \n",
       "max         1.000000  "
      ]
     },
     "execution_count": 4,
     "metadata": {},
     "output_type": "execute_result"
    }
   ],
   "source": [
    "# Description statistiques du dataset\n",
    "df_plan.describe()"
   ]
  },
  {
   "cell_type": "markdown",
   "id": "2e8d6fe6",
   "metadata": {},
   "source": [
    "Dans cette description statistique du jeu de données, on voit que plus de 50% des patients ont plus de 37ans."
   ]
  },
  {
   "cell_type": "code",
   "execution_count": 5,
   "id": "929eb7bc",
   "metadata": {},
   "outputs": [
    {
     "name": "stdout",
     "output_type": "stream",
     "text": [
      "<class 'pandas.core.frame.DataFrame'>\n",
      "RangeIndex: 110527 entries, 0 to 110526\n",
      "Data columns (total 14 columns):\n",
      " #   Column          Non-Null Count   Dtype  \n",
      "---  ------          --------------   -----  \n",
      " 0   PatientId       110527 non-null  float64\n",
      " 1   AppointmentID   110527 non-null  int64  \n",
      " 2   Gender          110527 non-null  object \n",
      " 3   ScheduledDay    110527 non-null  object \n",
      " 4   AppointmentDay  110527 non-null  object \n",
      " 5   Age             110527 non-null  int64  \n",
      " 6   Neighbourhood   110527 non-null  object \n",
      " 7   Scholarship     110527 non-null  int64  \n",
      " 8   Hipertension    110527 non-null  int64  \n",
      " 9   Diabetes        110527 non-null  int64  \n",
      " 10  Alcoholism      110527 non-null  int64  \n",
      " 11  Handcap         110527 non-null  int64  \n",
      " 12  SMS_received    110527 non-null  int64  \n",
      " 13  No-show         110527 non-null  object \n",
      "dtypes: float64(1), int64(8), object(5)\n",
      "memory usage: 11.8+ MB\n"
     ]
    }
   ],
   "source": [
    "# Information générale du dataset\n",
    "df_plan.info()"
   ]
  },
  {
   "cell_type": "markdown",
   "id": "b477921a",
   "metadata": {},
   "source": [
    "Cette vue générale de notre dataset montre que nous n'avons pas de données manquantes dans les différentes colonnes.Toutefois, on aura à rectifier les types pour certaines variables comme: \n",
    "\n",
    "ScheduledDay et AppointementDay en datetime."
   ]
  },
  {
   "cell_type": "code",
   "execution_count": 6,
   "id": "b581fe33",
   "metadata": {},
   "outputs": [
    {
     "data": {
      "text/plain": [
       "0"
      ]
     },
     "execution_count": 6,
     "metadata": {},
     "output_type": "execute_result"
    }
   ],
   "source": [
    "# Recherche des doublons\n",
    "df_plan.duplicated().sum()"
   ]
  },
  {
   "cell_type": "markdown",
   "id": "94fff85a",
   "metadata": {},
   "source": [
    "Donc on a pas de doublons dans notre dataset."
   ]
  },
  {
   "cell_type": "code",
   "execution_count": 7,
   "id": "0d939e0e",
   "metadata": {},
   "outputs": [
    {
     "data": {
      "text/plain": [
       "PatientId          62299\n",
       "AppointmentID     110527\n",
       "Gender                 2\n",
       "ScheduledDay      103549\n",
       "AppointmentDay        27\n",
       "Age                  104\n",
       "Neighbourhood         81\n",
       "Scholarship            2\n",
       "Hipertension           2\n",
       "Diabetes               2\n",
       "Alcoholism             2\n",
       "Handcap                5\n",
       "SMS_received           2\n",
       "No-show                2\n",
       "dtype: int64"
      ]
     },
     "execution_count": 7,
     "metadata": {},
     "output_type": "execute_result"
    }
   ],
   "source": [
    "# Nombre de valeurs uniques\n",
    "df_plan.nunique()"
   ]
  },
  {
   "cell_type": "markdown",
   "id": "1930d840",
   "metadata": {},
   "source": [
    "Avec la sortie de cette commande ci-dessus nous pouvons dire que nous avons par exemple 81 hopitaux différents pour les rendez-vous fixés.\n",
    "On a aussi 5 types d'handicaps différents enregistrés."
   ]
  },
  {
   "cell_type": "markdown",
   "id": "109f479b",
   "metadata": {},
   "source": [
    "### Data Cleaning\n",
    "\n",
    "Après investigation de notre dataset on a constaté qu'il ne contient beaucoup d'erreurs ou encore de données manquantes. Donc pour cette partie de nettoyage des données nous allons nous focaliser sur:\n",
    "\n",
    "   * Corriger les types des variables,\n",
    "   * Changer les noms des colonnes,\n",
    "   * Choix des variables utiles pour notre analyse.\n",
    "  \n",
    "   \n",
    "   \n",
    "   \n",
    "   "
   ]
  },
  {
   "cell_type": "code",
   "execution_count": 8,
   "id": "8b106ea3",
   "metadata": {},
   "outputs": [],
   "source": [
    "#Copier le dataset\n",
    "df_plan_copi = df_plan"
   ]
  },
  {
   "cell_type": "code",
   "execution_count": 9,
   "id": "2902aae9",
   "metadata": {},
   "outputs": [],
   "source": [
    "#Changer le type des variables\n",
    "df_plan_copi['ScheduledDay'] = pd.to_datetime(df_plan_copi['ScheduledDay']) \n",
    "df_plan_copi['AppointmentDay'] = pd.to_datetime(df_plan_copi['AppointmentDay'])"
   ]
  },
  {
   "cell_type": "code",
   "execution_count": 10,
   "id": "e90615e6",
   "metadata": {},
   "outputs": [
    {
     "name": "stdout",
     "output_type": "stream",
     "text": [
      "<class 'pandas.core.frame.DataFrame'>\n",
      "RangeIndex: 110527 entries, 0 to 110526\n",
      "Data columns (total 14 columns):\n",
      " #   Column          Non-Null Count   Dtype              \n",
      "---  ------          --------------   -----              \n",
      " 0   PatientId       110527 non-null  float64            \n",
      " 1   AppointmentID   110527 non-null  int64              \n",
      " 2   Gender          110527 non-null  object             \n",
      " 3   ScheduledDay    110527 non-null  datetime64[ns, UTC]\n",
      " 4   AppointmentDay  110527 non-null  datetime64[ns, UTC]\n",
      " 5   Age             110527 non-null  int64              \n",
      " 6   Neighbourhood   110527 non-null  object             \n",
      " 7   Scholarship     110527 non-null  int64              \n",
      " 8   Hipertension    110527 non-null  int64              \n",
      " 9   Diabetes        110527 non-null  int64              \n",
      " 10  Alcoholism      110527 non-null  int64              \n",
      " 11  Handcap         110527 non-null  int64              \n",
      " 12  SMS_received    110527 non-null  int64              \n",
      " 13  No-show         110527 non-null  object             \n",
      "dtypes: datetime64[ns, UTC](2), float64(1), int64(8), object(3)\n",
      "memory usage: 11.8+ MB\n"
     ]
    }
   ],
   "source": [
    "#Vue générale des colonnes\n",
    "df_plan_copi.info()"
   ]
  },
  {
   "cell_type": "code",
   "execution_count": 11,
   "id": "839ad302",
   "metadata": {},
   "outputs": [
    {
     "data": {
      "text/plain": [
       "Index(['PatientId', 'AppointmentID', 'Gender', 'ScheduledDay',\n",
       "       'AppointmentDay', 'Age', 'Neighbourhood', 'Scholarship', 'Hipertension',\n",
       "       'Diabetes', 'Alcoholism', 'Handcap', 'SMS_received', 'No-show'],\n",
       "      dtype='object')"
      ]
     },
     "execution_count": 11,
     "metadata": {},
     "output_type": "execute_result"
    }
   ],
   "source": [
    "#Affichage les colonnes\n",
    "df_plan_copi.columns"
   ]
  },
  {
   "cell_type": "code",
   "execution_count": 12,
   "id": "bea9eb32",
   "metadata": {},
   "outputs": [],
   "source": [
    "#Changer les noms des colonnes en français\n",
    "df_plan_copi.rename(columns = {'PatientId':'IdPatient','AppointmentID':'IdRV','Gender':'sexe','ScheduledDay':'jour_RV_Fixé',\n",
    "                              'AppointmentDay':'RV_jour','Age':'Age','Neighbourhood':'Localité_hop','Scholarship':'Prog_welfare',\n",
    "                              'Hipertension':'hypert','Diabetes':'Diabete','Alcoholism':'Alcoolique','Handcap':'Handicapé',\n",
    "                              'SMS_received':'SMS_reçu','No-show':'RV_Vu'}, inplace = True)"
   ]
  },
  {
   "cell_type": "code",
   "execution_count": 13,
   "id": "d76f8f8a",
   "metadata": {},
   "outputs": [
    {
     "data": {
      "text/plain": [
       "Index(['IdPatient', 'IdRV', 'sexe', 'jour_RV_Fixé', 'RV_jour', 'Age',\n",
       "       'Localité_hop', 'Prog_welfare', 'hypert', 'Diabete', 'Alcoolique',\n",
       "       'Handicapé', 'SMS_reçu', 'RV_Vu'],\n",
       "      dtype='object')"
      ]
     },
     "execution_count": 13,
     "metadata": {},
     "output_type": "execute_result"
    }
   ],
   "source": [
    "#Affichage des colonnes après les avoir renommées\n",
    "df_plan_copi.columns"
   ]
  },
  {
   "cell_type": "markdown",
   "id": "da324bcc",
   "metadata": {},
   "source": [
    "<a id='eda'></a>\n",
    "## Exploratory Data Analysis\n",
    "\n",
    "Dans cette partie d'analyse exploratoire, nous aurions à explorer les données en profondeur avec des visualisations en essayant d'apporter des réponses aux questions ou hypothèses soulevées dans l'introduction.\n"
   ]
  },
  {
   "cell_type": "markdown",
   "id": "4c21633b",
   "metadata": {},
   "source": [
    "### Q1: Est-ce que tous les patients qui ont reçu un sms ont pu voir leur rendez-vous?"
   ]
  },
  {
   "cell_type": "code",
   "execution_count": 128,
   "id": "85e72b70",
   "metadata": {},
   "outputs": [],
   "source": [
    "#Grouper rendez-vous Vu par sms reçu, puis calculer la moyenne\n",
    "RV_group = df_plan_copi.groupby('RV_Vu')['SMS_reçu'].mean()"
   ]
  },
  {
   "cell_type": "code",
   "execution_count": 600,
   "id": "00992f18",
   "metadata": {},
   "outputs": [],
   "source": [
    "#Visualisation en barres\n",
    "def plot_bar(df,arr,xlab,ylab,titre):#Création de la fonction plot_bar\n",
    "    colors ={'No':'green','Yes':'red'}\n",
    "    labels=list(colors.keys())\n",
    "    handles = [plt.Rectangle((0,0),1,1,color = colors[label]) for label in labels]\n",
    "    col = ['green','red']\n",
    "    plt.bar(df, arr,color = col,width=0.06)\n",
    "    plt.xlabel(xlab,fontsize = 15)\n",
    "    plt.ylabel(ylab, fontsize = 15)\n",
    "    plt.title(titre,fontsize = 14)\n",
    "    plt.legend(handles, labels)\n",
    "    plt.show()\n"
   ]
  },
  {
   "cell_type": "code",
   "execution_count": 601,
   "id": "316f11a4",
   "metadata": {},
   "outputs": [
    {
     "data": {
      "image/png": "[encoded data removed]",
      "text/plain": [
       "<Figure size 432x288 with 1 Axes>"
      ]
     },
     "metadata": {
      "needs_background": "light"
     },
     "output_type": "display_data"
    }
   ],
   "source": [
    "plot_bar(RV_group.SMS_reçu,RV_group.SMS_reçu,'Rendez-vous vu','Proportion',\n",
    "         'Proportion des sms reçus et rendez-vous')#Appel de la fonction plot_bar"
   ]
  },
  {
   "cell_type": "markdown",
   "id": "f33c9f37",
   "metadata": {},
   "source": [
    "Les données nous révêle que malgré l'envoie d'sms, seulement 43% ont pu voir leur rendez-vous alors que 29% n'ont pas pu les leur."
   ]
  },
  {
   "cell_type": "markdown",
   "id": "be92e427",
   "metadata": {},
   "source": [
    "### Q2: Quelle est la répartition par sexe des patients selon leur participation au programme welfare?"
   ]
  },
  {
   "cell_type": "code",
   "execution_count": 540,
   "id": "27ad43c5",
   "metadata": {},
   "outputs": [],
   "source": [
    "#Récupérer les lignes des patients qui ont bénéficié du programme welfare.\n",
    "df_welfare = df_plan_copi.query('Prog_welfare == 1')"
   ]
  },
  {
   "cell_type": "code",
   "execution_count": 541,
   "id": "4be1fc57",
   "metadata": {},
   "outputs": [],
   "source": [
    "#compter le nombre de patients ayant bénéficié le programme welfare selon le sexe\n",
    "df_pie = df_welfare['sexe'].value_counts()"
   ]
  },
  {
   "cell_type": "code",
   "execution_count": 614,
   "id": "69a1e796",
   "metadata": {},
   "outputs": [],
   "source": [
    "#Création d'une fonction de visualisation pie chart\n",
    "def plot_pie(df,label1,label2,titre):\n",
    "    plt.pie(df,startangle = 90,autopct ='%1.2f%%', labels = [label1, label2])\n",
    "    plt.ylabel('Sexe')\n",
    "    plt.title(titre,fontsize= 17)"
   ]
  },
  {
   "cell_type": "code",
   "execution_count": 615,
   "id": "59e6284c",
   "metadata": {},
   "outputs": [
    {
     "data": {
      "image/png": "[encoded data removed]",
      "text/plain": [
       "<Figure size 432x288 with 1 Axes>"
      ]
     },
     "metadata": {},
     "output_type": "display_data"
    }
   ],
   "source": [
    "#Visualisation diagramme en secteur suivant le sexe et la participation\n",
    "#des patients au programme welfare\n",
    "\n",
    "plot_pie(df_pie, \"F\",\"M\",'Répartition par sexe suivant le programme welfare') #Appel de la fonction plot_pie"
   ]
  },
  {
   "cell_type": "markdown",
   "id": "d51fad29",
   "metadata": {},
   "source": [
    "Dans ce diagramme à secteur, on voit que 81.51% des bénéficiaires du programme welfare sont des femmes et seulement 18.49% sont des hommes."
   ]
  },
  {
   "cell_type": "markdown",
   "id": "bad0d6ae",
   "metadata": {},
   "source": [
    "### Q3: Quel est l'âge moyen des patients qui ont pu voir leur planning de rendez-vous?"
   ]
  },
  {
   "cell_type": "code",
   "execution_count": 265,
   "id": "cc02d7bd",
   "metadata": {},
   "outputs": [
    {
     "data": {
      "text/plain": [
       "RV_Vu\n",
       "No     37.790064\n",
       "Yes    34.317667\n",
       "Name: Age, dtype: float64"
      ]
     },
     "execution_count": 265,
     "metadata": {},
     "output_type": "execute_result"
    }
   ],
   "source": [
    "#Grouper les colonnes rendez-vous et Age\n",
    "df_plan_copi.groupby('RV_Vu')['Age'].mean()"
   ]
  },
  {
   "cell_type": "markdown",
   "id": "c2b3cc63",
   "metadata": {},
   "source": [
    "La moyenne d' âge des patients qui ont pu voir leur rendez-vous est de 34 ans."
   ]
  },
  {
   "cell_type": "markdown",
   "id": "fdec380b",
   "metadata": {},
   "source": [
    "### Q4: Y a-t-il une relation entre l'hypertension et le diabete?"
   ]
  },
  {
   "cell_type": "code",
   "execution_count": 605,
   "id": "949fef8f",
   "metadata": {},
   "outputs": [],
   "source": [
    "#Graphe en barres sur la relation entre hypetension et diabete\n",
    "\n",
    "df_hyp_diab = df_plan_copi.groupby('hypert')['Diabete'].mean()"
   ]
  },
  {
   "cell_type": "code",
   "execution_count": 611,
   "id": "7339845f",
   "metadata": {},
   "outputs": [
    {
     "data": {
      "image/png": "[encoded data removed]",
      "text/plain": [
       "<Figure size 432x288 with 1 Axes>"
      ]
     },
     "metadata": {
      "needs_background": "light"
     },
     "output_type": "display_data"
    }
   ],
   "source": [
    "plot_bar(df_hyp_diab,df_hyp_diab,'Hypertention et Diabète', 'Proportion',\n",
    "         'Relation entre l\\'hypertention et le diabete') #Appel de la fonction plot_bar"
   ]
  },
  {
   "cell_type": "markdown",
   "id": "3e2f282c",
   "metadata": {},
   "source": [
    "En moyenne près de 30 % des patients hypertendus sont aussi diabétiques. "
   ]
  },
  {
   "cell_type": "markdown",
   "id": "ba5c3582",
   "metadata": {},
   "source": [
    "### Q5: Les patients qui ont pu voir leur rendez-vous ont-ils bénéficiés du programme welfare?"
   ]
  },
  {
   "cell_type": "code",
   "execution_count": 231,
   "id": "77632df3",
   "metadata": {},
   "outputs": [
    {
     "data": {
      "text/plain": [
       "0    19741\n",
       "1     2578\n",
       "Name: Prog_welfare, dtype: int64"
      ]
     },
     "execution_count": 231,
     "metadata": {},
     "output_type": "execute_result"
    }
   ],
   "source": [
    "#Compter le nombre de patients qui ont bénéficé du programme welfare et qui ont vu leur rendez-vous\n",
    "df_plan_copi.query('RV_Vu == \"Yes\"')['Prog_welfare'].value_counts()"
   ]
  },
  {
   "cell_type": "code",
   "execution_count": 234,
   "id": "4c4db165",
   "metadata": {},
   "outputs": [
    {
     "data": {
      "text/plain": [
       "48.662574488104305"
      ]
     },
     "execution_count": 234,
     "metadata": {},
     "output_type": "execute_result"
    }
   ],
   "source": [
    "#Proportion des patients bénéficiant du programme welfare par rapport à \n",
    "#ceux qui ont vu leur rendez-vous\n",
    "\n",
    "len(df_plan_copi.query('Prog_welfare == 1'))/len(df_plan_copi.query('RV_Vu == \"Yes\"'))*100"
   ]
  },
  {
   "cell_type": "markdown",
   "id": "55d31a30",
   "metadata": {},
   "source": [
    "48.66% des patients ayant bénéficié de l'assistance social avec le programme welfare ont vu leur rendez-vous."
   ]
  },
  {
   "cell_type": "markdown",
   "id": "e49d6fa3",
   "metadata": {},
   "source": [
    "### Q6: Combien de patients femmes ou hommes sont-ils alcooliques?"
   ]
  },
  {
   "cell_type": "code",
   "execution_count": 545,
   "id": "9b69a578",
   "metadata": {},
   "outputs": [],
   "source": [
    "#Extraire les patient alcooliques\n",
    "df_alc = df_plan_copi.query('Alcoolique == 1')"
   ]
  },
  {
   "cell_type": "code",
   "execution_count": 546,
   "id": "c25761f4",
   "metadata": {},
   "outputs": [],
   "source": [
    "#visualisation des patients alcooliques suivant le sexe\n",
    "df_alc_pie = df_alc['sexe'].value_counts()"
   ]
  },
  {
   "cell_type": "code",
   "execution_count": 616,
   "id": "999c10f9",
   "metadata": {},
   "outputs": [
    {
     "data": {
      "image/png": "[encoded data removed]",
      "text/plain": [
       "<Figure size 432x288 with 1 Axes>"
      ]
     },
     "metadata": {},
     "output_type": "display_data"
    }
   ],
   "source": [
    "plot_pie(df_alc_pie, \"F\",\"M\",'Répartition par sexe des patients alcooliques') #Appel de la fonction plot_pie"
   ]
  },
  {
   "cell_type": "markdown",
   "id": "03511be3",
   "metadata": {},
   "source": [
    "On constate que dans cette partie nous avons plus de patients hommes alcooliques que de femmes, avec soit 63.60% contre 36.40%.  "
   ]
  },
  {
   "cell_type": "markdown",
   "id": "5444dd62",
   "metadata": {},
   "source": [
    "### Q7:Y a-t-il une corrélation entre le sexe et le diabete?"
   ]
  },
  {
   "cell_type": "code",
   "execution_count": 612,
   "id": "5f863e44",
   "metadata": {},
   "outputs": [],
   "source": [
    "#Visualisation en barres de la moyenne des variables sexe et Diabete \n",
    "\n",
    "df_sex_Diab = df_plan_copi.groupby('sexe')['Diabete'].mean()"
   ]
  },
  {
   "cell_type": "code",
   "execution_count": 613,
   "id": "365e5e48",
   "metadata": {},
   "outputs": [
    {
     "data": {
      "image/png": "[encoded data removed]",
      "text/plain": [
       "<Figure size 432x288 with 1 Axes>"
      ]
     },
     "metadata": {
      "needs_background": "light"
     },
     "output_type": "display_data"
    }
   ],
   "source": [
    "plot_bar(df_sex_Diab,df_sex_Diab,\"Sexe et Diabète\", 'Proportion',\n",
    "         'Moyenne des patients diabetiques suivant le sexe') #Appel de la fonction plot_bar"
   ]
  },
  {
   "cell_type": "markdown",
   "id": "2cd3a9e9",
   "metadata": {},
   "source": [
    "On constate que c'est plus susceptible d'avoir le diabete quand on est femme que homme.\n",
    "Soit 7.8% des diabétiques sont des femmes contre 6% pour les hommes."
   ]
  },
  {
   "cell_type": "markdown",
   "id": "1fdd271b",
   "metadata": {},
   "source": [
    "<a id='conclusions'></a>\n",
    "## Conclusions"
   ]
  },
  {
   "cell_type": "markdown",
   "id": "6c750c62",
   "metadata": {},
   "source": [
    "* En résumé, les données nous montrent que seulement 43% des patients ont pu voir leur rendez-vous malgré les messages envoyés.\n",
    "\n",
    "* Pour le programme d'aide social (welfare) 81.51% des bénéficiaires sont des femmes et que 48.66% des patients de ce programme ont vu leur rendez-vous.\n",
    "\n",
    "* L'âge moyen des patients qui ont pu voir leur rendez-vous est de 34ans. En outre on a constaté que 30% des patients hypertendus sont aussi diabétiques.\n",
    "\n",
    "* Les patients alcooliques sont plus présents chez les hommes que chez lez femmes, soit 63.60% contre 36.40% pour les femmes.\n",
    "\n",
    "* La relation entre le sexe et le diabete n'est pas très accentuée pour nous permettre de poser des hypothèses fortes.\n",
    "\n",
    "\n",
    "* Les statistiques descriptives ont montré que dans l'ensemble du jeu de données plus de 50% des patients ont 37ans.\n",
    "\n",
    "\n",
    "## **Limitations**\n",
    "\n",
    "Le constat fait au niveau de la Q1 ne nous permet pas de tirer une conclusion définitive s'il y a une forte corrélation entre le fait de recevoir un sms et de voir son rendez-vous. Dans une fouille poussée, en utilisant par exemple les outils de test-hypothèses nous pourions mieux nous positionner sur cette question.\n",
    "\n",
    "En outre, pour la relation entre le sexe et le diabète Q7, on a pas une grande différence des proportions au niveau des deux sexes pour nous positionner. Il faut peut être songer à augmenter les données. "
   ]
  },
  {
   "cell_type": "markdown",
   "id": "f6ea59b7",
   "metadata": {},
   "source": [
    "### REFERENCES"
   ]
  },
  {
   "cell_type": "markdown",
   "id": "30eebe50",
   "metadata": {},
   "source": [
    "<li><a href='http://www.learningaboutelectronics.com/Articles/How-to-create-a-pie-chart-in-matplotlib-with-Python.php'>Pie chart</a></li>\n",
    "\n",
    "\n",
    "<li><a href='https://stackoverflow.com/questions/57340415/matplotlib-bar-plot-add-legend-from-categories-dataframe-column'>matplotlib barplot</a></li>\n"
   ]
  },
  {
   "cell_type": "code",
   "execution_count": null,
   "id": "49a14994",
   "metadata": {},
   "outputs": [],
   "source": []
  }
 ],
 "metadata": {
  "kernelspec": {
   "display_name": "py37_env",
   "language": "python",
   "name": "py37_env"
  },
  "language_info": {
   "codemirror_mode": {
    "name": "ipython",
    "version": 3
   },
   "file_extension": ".py",
   "mimetype": "text/x-python",
   "name": "python",
   "nbconvert_exporter": "python",
   "pygments_lexer": "ipython3",
   "version": "3.7.13"
  }
 },
 "nbformat": 4,
 "nbformat_minor": 5
}
